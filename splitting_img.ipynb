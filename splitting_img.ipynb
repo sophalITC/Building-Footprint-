{
 "cells": [
  {
   "cell_type": "markdown",
   "metadata": {},
   "source": [
    "## Implement code to split image\n",
    "-f 4 meaning that we split image using 4 x 4."
   ]
  },
  {
   "cell_type": "code",
   "execution_count": 2,
   "metadata": {},
   "outputs": [
    {
     "name": "stdout",
     "output_type": "stream",
     "text": [
      "big_pic.jpg spliting.....\n",
      "splitting complete with 25 images ready to generate....\n",
      "generating....1/25\n",
      "generating....2/25\n",
      "generating....3/25\n",
      "generating....4/25\n",
      "generating....5/25\n",
      "generating....6/25\n",
      "generating....7/25\n",
      "generating....8/25\n",
      "generating....9/25\n",
      "generating....10/25\n",
      "generating....11/25\n",
      "generating....12/25\n",
      "generating....13/25\n",
      "generating....14/25\n",
      "generating....15/25\n",
      "generating....16/25\n",
      "generating....17/25\n",
      "generating....18/25\n",
      "generating....19/25\n",
      "generating....20/25\n",
      "generating....21/25\n",
      "generating....22/25\n",
      "generating....23/25\n",
      "generating....24/25\n",
      "generating....25/25\n",
      "outputs are saved at test_fold.\n"
     ]
    }
   ],
   "source": [
    "!python3 main.py -p \"/home/nath/Desktop/building_detection/source/test\" -f 5 -o \"test_fold\""
   ]
  }
 ],
 "metadata": {
  "kernelspec": {
   "display_name": "Python 3.10.4 64-bit",
   "language": "python",
   "name": "python3"
  },
  "language_info": {
   "codemirror_mode": {
    "name": "ipython",
    "version": 3
   },
   "file_extension": ".py",
   "mimetype": "text/x-python",
   "name": "python",
   "nbconvert_exporter": "python",
   "pygments_lexer": "ipython3",
   "version": "3.10.6"
  },
  "orig_nbformat": 4,
  "vscode": {
   "interpreter": {
    "hash": "916dbcbb3f70747c44a77c7bcd40155683ae19c65e1c03b4aa3499c5328201f1"
   }
  }
 },
 "nbformat": 4,
 "nbformat_minor": 2
}
